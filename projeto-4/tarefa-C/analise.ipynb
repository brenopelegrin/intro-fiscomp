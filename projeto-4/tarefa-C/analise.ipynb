{
 "cells": [
  {
   "cell_type": "code",
   "execution_count": 51,
   "id": "96642e85-d7c8-4cf7-8b66-f84c670d2300",
   "metadata": {},
   "outputs": [],
   "source": [
    "import pandas as pd\n",
    "import numpy as np\n",
    "import matplotlib.pyplot as plt"
   ]
  },
  {
   "cell_type": "markdown",
   "id": "12a90949-0101-4953-8f03-057320281be2",
   "metadata": {},
   "source": [
    "## Importação dos dados do Fortran"
   ]
  },
  {
   "cell_type": "code",
   "execution_count": 52,
   "id": "2896cfc6-08d8-4cc7-996a-4f80532c7bfb",
   "metadata": {},
   "outputs": [
    {
     "data": {
      "text/html": [
       "<div>\n",
       "<style scoped>\n",
       "    .dataframe tbody tr th:only-of-type {\n",
       "        vertical-align: middle;\n",
       "    }\n",
       "\n",
       "    .dataframe tbody tr th {\n",
       "        vertical-align: top;\n",
       "    }\n",
       "\n",
       "    .dataframe thead th {\n",
       "        text-align: right;\n",
       "    }\n",
       "</style>\n",
       "<table border=\"1\" class=\"dataframe\">\n",
       "  <thead>\n",
       "    <tr style=\"text-align: right;\">\n",
       "      <th></th>\n",
       "      <th>t</th>\n",
       "      <th>dtheta</th>\n",
       "    </tr>\n",
       "  </thead>\n",
       "  <tbody>\n",
       "    <tr>\n",
       "      <th>0</th>\n",
       "      <td>0.00</td>\n",
       "      <td>-0.001000</td>\n",
       "    </tr>\n",
       "    <tr>\n",
       "      <th>1</th>\n",
       "      <td>0.04</td>\n",
       "      <td>-0.000998</td>\n",
       "    </tr>\n",
       "    <tr>\n",
       "      <th>2</th>\n",
       "      <td>0.08</td>\n",
       "      <td>-0.000995</td>\n",
       "    </tr>\n",
       "    <tr>\n",
       "      <th>3</th>\n",
       "      <td>0.12</td>\n",
       "      <td>-0.000991</td>\n",
       "    </tr>\n",
       "    <tr>\n",
       "      <th>4</th>\n",
       "      <td>0.16</td>\n",
       "      <td>-0.000985</td>\n",
       "    </tr>\n",
       "  </tbody>\n",
       "</table>\n",
       "</div>"
      ],
      "text/plain": [
       "      t    dtheta\n",
       "0  0.00 -0.001000\n",
       "1  0.04 -0.000998\n",
       "2  0.08 -0.000995\n",
       "3  0.12 -0.000991\n",
       "4  0.16 -0.000985"
      ]
     },
     "execution_count": 52,
     "metadata": {},
     "output_type": "execute_result"
    }
   ],
   "source": [
    "df1 = pd.read_csv('./c_dados_1.csv', sep=',', header=0)\n",
    "df2 = pd.read_csv('./c_dados_2.csv', sep=',', header=0)\n",
    "df2.head()"
   ]
  },
  {
   "cell_type": "markdown",
   "id": "f762b4c3-edfd-47a7-9db5-2c65b1411277",
   "metadata": {},
   "source": [
    "## Gráfico de $\\Delta \\theta(t)$ para $F_0 = 0.5$"
   ]
  },
  {
   "cell_type": "code",
   "execution_count": 53,
   "id": "3b89d203-4e9c-414c-8fb1-3bf13bec8d7c",
   "metadata": {},
   "outputs": [],
   "source": [
    "# Regressão linear\n",
    "y = np.array(abs(df1['dtheta']))\n",
    "x = np.array(df1['t'])\n",
    "\n",
    "y_log = np.log(y)\n",
    "y_log = y_log[~np.isnan(y_log)]\n",
    "\n",
    "A = np.vstack([x, np.ones(len(x))]).T\n",
    "a,b = np.linalg.lstsq(A, y_log, rcond=None)[0]"
   ]
  },
  {
   "cell_type": "code",
   "execution_count": null,
   "id": "95ddaaca-454e-4e6b-af8b-7babfff5fd82",
   "metadata": {},
   "outputs": [
    {
     "data": {
      "text/plain": [
       "<matplotlib.legend.Legend at 0x7fc6af76b7f0>"
      ]
     },
     "execution_count": 54,
     "metadata": {},
     "output_type": "execute_result"
    }
   ],
   "source": [
    "f1, ax1 = plt.subplots()\n",
    "ax1.semilogy(x, y, label='$|\\\\Delta \\\\theta(t)|$', color='blue', linewidth=1)\n",
    "ax1.semilogy(x, np.exp(a*x + b), label=f\"Melhor reta ($\\\\lambda = {a:.3f}$)\", color='red')\n",
    "ax1.set_xlabel('Tempo (s)')\n",
    "ax1.set_ylabel('$ln|\\\\Delta \\\\theta|$ (rad)')\n",
    "ax1.grid()\n",
    "ax1.legend()"
   ]
  },
  {
   "cell_type": "markdown",
   "id": "88333fe6-56d0-45a7-9026-e163adb2e85e",
   "metadata": {},
   "source": [
    "## Gráfico de $\\Delta \\theta(t)$ para $F_0 = 1.2$"
   ]
  },
  {
   "cell_type": "code",
   "execution_count": null,
   "id": "6761071e-579d-4d65-b916-a8f36c6e0b8a",
   "metadata": {},
   "outputs": [],
   "source": [
    "# Regressão linear\n",
    "y = np.array(abs(df2['dtheta']))\n",
    "x = np.array(df2['t'])\n",
    "\n",
    "y_log = np.log(y)\n",
    "y_log = y_log[~np.isnan(y_log)]\n",
    "\n",
    "A = np.vstack([x, np.ones(len(x))]).T\n",
    "a,b = np.linalg.lstsq(A, y_log, rcond=None)[0]"
   ]
  },
  {
   "cell_type": "code",
   "execution_count": null,
   "id": "480ea414-540e-4e80-8394-050c29e956d8",
   "metadata": {},
   "outputs": [],
   "source": [
    "f2, ax2 = plt.subplots()\n",
    "ax2.semilogy(x, y, label='$|\\\\Delta \\\\theta(t)|$', color='blue', linewidth=1)\n",
    "ax2.semilogy(x, np.exp(a*x + b), label=f\"Melhor reta ($\\\\lambda = {a:.3f}$)\", color='red')\n",
    "ax2.set_xlabel('Tempo (s)')\n",
    "ax2.set_ylabel('$ln|\\\\Delta \\\\theta|$ (rad)')\n",
    "ax2.grid()\n",
    "ax2.legend()"
   ]
  }
 ],
 "metadata": {
  "kernelspec": {
   "display_name": "Python 3 (ipykernel)",
   "language": "python",
   "name": "python3"
  },
  "language_info": {
   "codemirror_mode": {
    "name": "ipython",
    "version": 3
   },
   "file_extension": ".py",
   "mimetype": "text/x-python",
   "name": "python",
   "nbconvert_exporter": "python",
   "pygments_lexer": "ipython3",
   "version": "3.9.13"
  }
 },
 "nbformat": 4,
 "nbformat_minor": 5
}
