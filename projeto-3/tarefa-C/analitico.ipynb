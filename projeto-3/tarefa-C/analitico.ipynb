{
 "cells": [
  {
   "cell_type": "code",
   "execution_count": 1,
   "id": "10cc1731-132a-4b31-9582-b461ed046c0a",
   "metadata": {},
   "outputs": [],
   "source": [
    "import pandas as pd"
   ]
  },
  {
   "cell_type": "code",
   "execution_count": 4,
   "id": "69f8efdd-4693-4fde-8742-bc394c306654",
   "metadata": {},
   "outputs": [],
   "source": [
    "df = pd.read_csv('./saida-1-raizes-13687303.csv', delimiter=',', dtype='str')"
   ]
  },
  {
   "cell_type": "code",
   "execution_count": 11,
   "id": "8590af00-4c7c-49bf-999c-d9151a44c765",
   "metadata": {},
   "outputs": [
    {
     "name": "stdout",
     "output_type": "stream",
     "text": [
      "\\begin{tabular}{llllllllll}\n",
      "\\toprule\n",
      " i &                      r1n &                      r2n &                      r3n &                      r1d &                      r2d &                     r3d  &                      r1s &                      r2s &                      r3s \\\\\n",
      "\\midrule\n",
      " 0 &           -7.86915887850 &            2.13559322034 &            9.15527950311 &           -5.00000000000 &            2.50000000000 &            7.50000000000 &           -7.50002305954 &            1.88461538462 &            8.68922108576 \\\\\n",
      " 1 &           -7.10646566346 &            1.99933084465 &            9.00471464883 &           -7.50000000000 &            1.25000000000 &            8.75000000000 &           -6.91915429979 &            2.00136536908 &            9.12656952039 \\\\\n",
      " 2 &           -7.00191344530 &            1.99999998580 &            9.00000455770 &           -6.25000000000 &            1.87500000000 &            9.37500000000 &           -6.99335751505 &            2.00000470020 &            8.99167756119 \\\\\n",
      " 3 &           -7.00000063531 &            1.99999998580 &            9.00000000000 &           -6.87500000000 &            2.18750000000 &            9.06250000000 &           -7.00009433390 &            1.99999999980 &            8.99978775386 \\\\\n",
      " 4 &           -7.00000063531 &            1.99999998580 &            9.00000000000 &           -7.18750000000 &            2.03125000000 &            8.90625000000 &           -6.99999989112 &            2.00000000000 &            9.00000036325 \\\\\n",
      " 5 &           -7.00000063531 &            1.99999998580 &            9.00000000000 &           -7.03125000000 &            1.95312500000 &            8.98437500000 &           -7.00000000000 &            2.00000000000 &            8.99999999998 \\\\\n",
      " 6 &           -7.00000063531 &            1.99999998580 &            9.00000000000 &           -6.95312500000 &            1.99218750000 &            9.02343750000 &           -7.00000000000 &            2.00000000000 &            9.00000000000 \\\\\n",
      "\\bottomrule\n",
      "\\end{tabular}\n",
      "\n"
     ]
    },
    {
     "name": "stderr",
     "output_type": "stream",
     "text": [
      "/tmp/ipykernel_135561/1842088038.py:1: FutureWarning: In future versions `DataFrame.to_latex` is expected to utilise the base implementation of `Styler.to_latex` for formatting and rendering. The arguments signature may therefore change. It is recommended instead to use `DataFrame.style.to_latex` which also contains additional functionality.\n",
      "  print(df.to_latex(index=False))\n"
     ]
    }
   ],
   "source": [
    "print(df.to_latex(index=False))"
   ]
  },
  {
   "cell_type": "code",
   "execution_count": 8,
   "id": "4e6d389b-91c0-49a6-bff6-a6d7af2de8be",
   "metadata": {},
   "outputs": [],
   "source": [
    "import LabIFSC as lab\n",
    "tab = lab.Tabela(titulo='Raízes para cada método e número de iterações')\n",
    "for col in list(df.columns):\n",
    "    tab.addColuna(lab.arrayM(arrayNominal=df[col], incertezas=0.0, unidades='', transformer=list), titulo=col)"
   ]
  },
  {
   "cell_type": "code",
   "execution_count": 10,
   "id": "afaa00db-581c-4c60-8b8c-d1ecc3c3ccf5",
   "metadata": {},
   "outputs": [
    {
     "name": "stdout",
     "output_type": "stream",
     "text": [
      "\\begin{table}[H]\n",
      "\\centering\n",
      "\\caption{Raízes para cada método e número de iterações}\n",
      "\\label{yourLabelHere}\n",
      "\\begin{tabular}{|c|c|c|c|c|c|c|c|c|c|}\n",
      "\\hline\n",
      "\\textbf{ i () $\\pm$ 0 ()}&\\textbf{r1n () $\\pm$ 0 ()}&\\textbf{r2n () $\\pm$ 0 ()}&\\textbf{r3n () $\\pm$ 0 ()}&\\textbf{r1d () $\\pm$ 0 ()}&\\textbf{r2d () $\\pm$ 0 ()}&\\textbf{r3d  () $\\pm$ 0 ()}&\\textbf{r1s () $\\pm$ 0 ()}&\\textbf{r2s () $\\pm$ 0 ()}&\\textbf{r3s () $\\pm$ 0 ()}\\\\ \\hline\n",
      "0,0&-7,8691588785&2,13559322034&9,15527950311&-5,0&2,5&7,5&-7,50002305954&1,88461538462&8,68922108576\\\\ \\hline\n",
      "1,0&-7,10646566346&1,99933084465&9,00471464883&-7,5&1,25&8,75&-6,91915429979&2,00136536908&9,12656952039\\\\ \\hline\n",
      "2,0&-7,0019134453&1,9999999858&9,0000045577&-6,25&1,875&9,375&-6,99335751505&2,0000047002&8,99167756119\\\\ \\hline\n",
      "3,0&-7,00000063531&1,9999999858&9,0&-6,875&2,1875&9,0625&-7,0000943339&1,9999999998&8,99978775386\\\\ \\hline\n",
      "4,0&-7,00000063531&1,9999999858&9,0&-7,1875&2,03125&8,90625&-6,99999989112&2,0&9,00000036325\\\\ \\hline\n",
      "5,0&-7,00000063531&1,9999999858&9,0&-7,03125&1,953125&8,984375&-7,0&2,0&8,99999999998\\\\ \\hline\n",
      "6,0&-7,00000063531&1,9999999858&9,0&-6,953125&1,9921875&9,0234375&-7,0&2,0&9,0\\\\ \\hline\n",
      "\\end{tabular}\n",
      "\\caption*{Fonte: Autoria própria}\n",
      "\\end{table}\n",
      "\n"
     ]
    }
   ],
   "source": [
    "print(tab.gerarLatex())"
   ]
  }
 ],
 "metadata": {
  "kernelspec": {
   "display_name": "Python 3 (ipykernel)",
   "language": "python",
   "name": "python3"
  },
  "language_info": {
   "codemirror_mode": {
    "name": "ipython",
    "version": 3
   },
   "file_extension": ".py",
   "mimetype": "text/x-python",
   "name": "python",
   "nbconvert_exporter": "python",
   "pygments_lexer": "ipython3",
   "version": "3.9.13"
  }
 },
 "nbformat": 4,
 "nbformat_minor": 5
}
