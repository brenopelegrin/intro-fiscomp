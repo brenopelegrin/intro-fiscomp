{
 "cells": [
  {
   "cell_type": "code",
   "execution_count": 1,
   "id": "9ebd5c0b-3133-4edf-9b49-c6f1db2e6f15",
   "metadata": {},
   "outputs": [],
   "source": [
    "from sympy import *\n",
    "import numpy as np\n",
    "import pandas as pd\n",
    "import matplotlib.pyplot as plt"
   ]
  },
  {
   "cell_type": "code",
   "execution_count": 2,
   "id": "27a48213-b6d0-461e-a26d-22b422576999",
   "metadata": {},
   "outputs": [],
   "source": [
    "x,f,y = symbols('x f y')"
   ]
  },
  {
   "cell_type": "code",
   "execution_count": 3,
   "id": "f56e7fec-7dca-4da0-9c16-764cac5ef40a",
   "metadata": {},
   "outputs": [],
   "source": [
    "f_b = exp(-x)*cos(2*pi*x)"
   ]
  },
  {
   "cell_type": "code",
   "execution_count": 4,
   "id": "d7c781bc-9752-4c29-af37-b562f9ba88a1",
   "metadata": {},
   "outputs": [],
   "source": [
    "int_b = integrate(f_b, x)"
   ]
  },
  {
   "cell_type": "code",
   "execution_count": 5,
   "id": "5da7891e-233f-47c7-9eb4-d349f1e71c9c",
   "metadata": {},
   "outputs": [
    {
     "name": "stdout",
     "output_type": "stream",
     "text": [
      "\\frac{2 \\pi \\sin{\\left(2 \\pi x \\right)}}{e^{x} + 4 \\pi^{2} e^{x}} - \\frac{\\cos{\\left(2 \\pi x \\right)}}{e^{x} + 4 \\pi^{2} e^{x}}\n"
     ]
    }
   ],
   "source": [
    "print_latex(int_b)"
   ]
  },
  {
   "cell_type": "code",
   "execution_count": 6,
   "id": "1ee0ea9e-0012-4cfb-8d8b-4afea07de828",
   "metadata": {},
   "outputs": [],
   "source": [
    "int_b_res = int_b.subs(x, 1).evalf() - int_b.subs(x, 0).evalf()"
   ]
  },
  {
   "cell_type": "code",
   "execution_count": 7,
   "id": "83d85af0-dff9-427e-8240-168e411168f4",
   "metadata": {},
   "outputs": [
    {
     "data": {
      "text/latex": [
       "$\\displaystyle 0.0156162369044908$"
      ],
      "text/plain": [
       "0.0156162369044908"
      ]
     },
     "execution_count": 7,
     "metadata": {},
     "output_type": "execute_result"
    }
   ],
   "source": [
    "int_b_res"
   ]
  },
  {
   "cell_type": "code",
   "execution_count": 8,
   "id": "a637ef10-5d39-4e65-9aa2-c154ac5f8fe2",
   "metadata": {},
   "outputs": [
    {
     "data": {
      "text/latex": [
       "$\\displaystyle 0.01561623690449$"
      ],
      "text/plain": [
       "0.01561623690449"
      ]
     },
     "execution_count": 8,
     "metadata": {},
     "output_type": "execute_result"
    }
   ],
   "source": [
    "N(int_b_res, 13)"
   ]
  },
  {
   "cell_type": "code",
   "execution_count": 9,
   "id": "f2942665-ef32-4d29-bc85-15e6d76b12a1",
   "metadata": {},
   "outputs": [],
   "source": [
    "df = pd.read_csv('saida-2-erro-13687303.csv', header=0)\n",
    "df_str = pd.read_csv('saida-2-erro-13687303.csv', header=0, dtype=str)"
   ]
  },
  {
   "cell_type": "code",
   "execution_count": 10,
   "id": "c5452118-ece5-4548-977e-1c8fb6a276ef",
   "metadata": {},
   "outputs": [
    {
     "data": {
      "text/html": [
       "<div>\n",
       "<style scoped>\n",
       "    .dataframe tbody tr th:only-of-type {\n",
       "        vertical-align: middle;\n",
       "    }\n",
       "\n",
       "    .dataframe tbody tr th {\n",
       "        vertical-align: top;\n",
       "    }\n",
       "\n",
       "    .dataframe thead th {\n",
       "        text-align: right;\n",
       "    }\n",
       "</style>\n",
       "<table border=\"1\" class=\"dataframe\">\n",
       "  <thead>\n",
       "    <tr style=\"text-align: right;\">\n",
       "      <th></th>\n",
       "      <th>n</th>\n",
       "      <th>h</th>\n",
       "      <th>tr</th>\n",
       "      <th>sp</th>\n",
       "      <th>bl</th>\n",
       "    </tr>\n",
       "  </thead>\n",
       "  <tbody>\n",
       "    <tr>\n",
       "      <th>0</th>\n",
       "      <td>12</td>\n",
       "      <td>0.08333333333</td>\n",
       "      <td>0.00037083460</td>\n",
       "      <td>0.00002096441</td>\n",
       "      <td>0.00000402326</td>\n",
       "    </tr>\n",
       "    <tr>\n",
       "      <th>1</th>\n",
       "      <td>24</td>\n",
       "      <td>0.04166666667</td>\n",
       "      <td>0.00009176391</td>\n",
       "      <td>0.00000125965</td>\n",
       "      <td>0.00000005400</td>\n",
       "    </tr>\n",
       "    <tr>\n",
       "      <th>2</th>\n",
       "      <td>48</td>\n",
       "      <td>0.02083333333</td>\n",
       "      <td>0.00002288231</td>\n",
       "      <td>0.00000007822</td>\n",
       "      <td>0.00000000054</td>\n",
       "    </tr>\n",
       "    <tr>\n",
       "      <th>3</th>\n",
       "      <td>96</td>\n",
       "      <td>0.01041666667</td>\n",
       "      <td>0.00000571672</td>\n",
       "      <td>0.00000000514</td>\n",
       "      <td>0.00000000027</td>\n",
       "    </tr>\n",
       "    <tr>\n",
       "      <th>4</th>\n",
       "      <td>192</td>\n",
       "      <td>0.00520833333</td>\n",
       "      <td>0.00000142874</td>\n",
       "      <td>0.00000000058</td>\n",
       "      <td>0.00000000028</td>\n",
       "    </tr>\n",
       "  </tbody>\n",
       "</table>\n",
       "</div>"
      ],
      "text/plain": [
       "     n                         h                        tr  \\\n",
       "0   12             0.08333333333             0.00037083460   \n",
       "1   24             0.04166666667             0.00009176391   \n",
       "2   48             0.02083333333             0.00002288231   \n",
       "3   96             0.01041666667             0.00000571672   \n",
       "4  192             0.00520833333             0.00000142874   \n",
       "\n",
       "                         sp                        bl  \n",
       "0             0.00002096441             0.00000402326  \n",
       "1             0.00000125965             0.00000005400  \n",
       "2             0.00000007822             0.00000000054  \n",
       "3             0.00000000514             0.00000000027  \n",
       "4             0.00000000058             0.00000000028  "
      ]
     },
     "execution_count": 10,
     "metadata": {},
     "output_type": "execute_result"
    }
   ],
   "source": [
    "df_str.head()"
   ]
  },
  {
   "cell_type": "code",
   "execution_count": 23,
   "id": "bf2fd6d6-91d6-4b40-b7cd-1ea54857629b",
   "metadata": {},
   "outputs": [
    {
     "data": {
      "image/png": "[encoded data removed]",
      "text/plain": [
       "<Figure size 640x480 with 1 Axes>"
      ]
     },
     "metadata": {},
     "output_type": "display_data"
    }
   ],
   "source": [
    "f1, ax1 = plt.subplots()\n",
    "ax1.plot(df['n'], df['tr'], label='tr')\n",
    "ax1.plot(df['n'], df['sp'], label='sp')\n",
    "ax1.plot(df['n'], df['bl'], label='bl')\n",
    "ax1.legend()\n",
    "ax1.grid()\n",
    "ax1.set_yscale('log')\n",
    "ax1.set_xscale('log')\n",
    "\n",
    "ax1.set_ylabel('Diferença absoluta')\n",
    "ax1.set_xlabel('Número de divisões (N)')\n",
    "\n",
    "f1.savefig('tarefa-b-graf-1-13687303.pdf', dpi=300, bbox_inches='tight')"
   ]
  },
  {
   "cell_type": "code",
   "execution_count": 12,
   "id": "784b8cfb-2ce0-409c-8bef-4945465e64e8",
   "metadata": {},
   "outputs": [],
   "source": [
    "import LabIFSC as lab"
   ]
  },
  {
   "cell_type": "code",
   "execution_count": 13,
   "id": "ab196f29-3b6f-4fb3-bf80-656d252ff26a",
   "metadata": {},
   "outputs": [
    {
     "data": {
      "text/html": [
       "<div>\n",
       "<style scoped>\n",
       "    .dataframe tbody tr th:only-of-type {\n",
       "        vertical-align: middle;\n",
       "    }\n",
       "\n",
       "    .dataframe tbody tr th {\n",
       "        vertical-align: top;\n",
       "    }\n",
       "\n",
       "    .dataframe thead th {\n",
       "        text-align: right;\n",
       "    }\n",
       "</style>\n",
       "<table border=\"1\" class=\"dataframe\">\n",
       "  <thead>\n",
       "    <tr style=\"text-align: right;\">\n",
       "      <th></th>\n",
       "      <th>n</th>\n",
       "      <th>h</th>\n",
       "      <th>tr</th>\n",
       "      <th>sp</th>\n",
       "      <th>bl</th>\n",
       "    </tr>\n",
       "  </thead>\n",
       "  <tbody>\n",
       "    <tr>\n",
       "      <th>0</th>\n",
       "      <td>12</td>\n",
       "      <td>0.083333</td>\n",
       "      <td>0.000371</td>\n",
       "      <td>2.096441e-05</td>\n",
       "      <td>4.023260e-06</td>\n",
       "    </tr>\n",
       "    <tr>\n",
       "      <th>1</th>\n",
       "      <td>24</td>\n",
       "      <td>0.041667</td>\n",
       "      <td>0.000092</td>\n",
       "      <td>1.259650e-06</td>\n",
       "      <td>5.400000e-08</td>\n",
       "    </tr>\n",
       "    <tr>\n",
       "      <th>2</th>\n",
       "      <td>48</td>\n",
       "      <td>0.020833</td>\n",
       "      <td>0.000023</td>\n",
       "      <td>7.822000e-08</td>\n",
       "      <td>5.400000e-10</td>\n",
       "    </tr>\n",
       "    <tr>\n",
       "      <th>3</th>\n",
       "      <td>96</td>\n",
       "      <td>0.010417</td>\n",
       "      <td>0.000006</td>\n",
       "      <td>5.140000e-09</td>\n",
       "      <td>2.700000e-10</td>\n",
       "    </tr>\n",
       "    <tr>\n",
       "      <th>4</th>\n",
       "      <td>192</td>\n",
       "      <td>0.005208</td>\n",
       "      <td>0.000001</td>\n",
       "      <td>5.800000e-10</td>\n",
       "      <td>2.800000e-10</td>\n",
       "    </tr>\n",
       "  </tbody>\n",
       "</table>\n",
       "</div>"
      ],
      "text/plain": [
       "     n         h        tr            sp            bl\n",
       "0   12  0.083333  0.000371  2.096441e-05  4.023260e-06\n",
       "1   24  0.041667  0.000092  1.259650e-06  5.400000e-08\n",
       "2   48  0.020833  0.000023  7.822000e-08  5.400000e-10\n",
       "3   96  0.010417  0.000006  5.140000e-09  2.700000e-10\n",
       "4  192  0.005208  0.000001  5.800000e-10  2.800000e-10"
      ]
     },
     "execution_count": 13,
     "metadata": {},
     "output_type": "execute_result"
    }
   ],
   "source": [
    "df.head()"
   ]
  },
  {
   "cell_type": "code",
   "execution_count": 14,
   "id": "0fb69134-7573-4d44-b938-f0c3a42d791f",
   "metadata": {},
   "outputs": [
    {
     "data": {
      "text/plain": [
       "['n', 'h', 'tr', 'sp', 'bl']"
      ]
     },
     "execution_count": 14,
     "metadata": {},
     "output_type": "execute_result"
    }
   ],
   "source": [
    "list(df.columns)"
   ]
  },
  {
   "cell_type": "code",
   "execution_count": 15,
   "id": "cf8216d6-9b00-4939-90f4-c75c72cd486a",
   "metadata": {},
   "outputs": [
    {
     "data": {
      "text/plain": [
       "[12, 24, 48, 96, 192, 384, 768, 1536, 3072, 6144]"
      ]
     },
     "execution_count": 15,
     "metadata": {},
     "output_type": "execute_result"
    }
   ],
   "source": [
    "list(df['n'])"
   ]
  },
  {
   "cell_type": "code",
   "execution_count": 16,
   "id": "783de724-b341-42bb-a66e-64c815d25fc0",
   "metadata": {},
   "outputs": [],
   "source": [
    "tab = lab.Tabela(titulo='Diferenças absolutas para cada método de integração')"
   ]
  },
  {
   "cell_type": "code",
   "execution_count": 17,
   "id": "dc059854-f852-42e1-b5c2-f5692b0ce9ae",
   "metadata": {},
   "outputs": [],
   "source": [
    "for col in list(df_str.columns):\n",
    "    tab.addColuna(lab.arrayM(arrayNominal=df_str[col], incertezas=0.0, unidades='', transformer=list), titulo=col)"
   ]
  },
  {
   "cell_type": "code",
   "execution_count": 18,
   "id": "40cdc2ad-8777-4214-9008-62cecce40317",
   "metadata": {},
   "outputs": [
    {
     "name": "stdout",
     "output_type": "stream",
     "text": [
      "\\begin{table}[H]\n",
      "\\centering\n",
      "\\caption{Diferenças absolutas para cada método de integração}\n",
      "\\label{yourLabelHere}\n",
      "\\begin{tabular}{|c|c|c|c|c|}\n",
      "\\hline\n",
      "\\textbf{n () $\\pm$ 0 ()}&\\textbf{h () $\\pm$ 0 ()}&\\textbf{tr () $\\pm$ 0 ()}&\\textbf{sp () $\\pm$ 0 ()}&\\textbf{bl () $\\pm$ 0 ()}\\\\ \\hline\n",
      "12,0&0,08333333333&0,0003708346&2,096441e-05&4,02326e-06\\\\ \\hline\n",
      "24,0&0,04166666667&9,176391e-05&1,25965e-06&5,4e-08\\\\ \\hline\n",
      "48,0&0,02083333333&2,288231e-05&7,822e-08&5,4e-10\\\\ \\hline\n",
      "96,0&0,01041666667&5,71672e-06&5,14e-09&2,7e-10\\\\ \\hline\n",
      "192,0&0,00520833333&1,42874e-06&5,8e-10&2,8e-10\\\\ \\hline\n",
      "384,0&0,00260416667&3,5696e-07&3e-10&2,8e-10\\\\ \\hline\n",
      "768,0&0,00130208333&8,903e-08&2,8e-10&2,8e-10\\\\ \\hline\n",
      "1536,0&0,00065104167&2,205e-08&2,8e-10&2,8e-10\\\\ \\hline\n",
      "3072,0&0,00032552083&5,3e-09&2,8e-10&2,8e-10\\\\ \\hline\n",
      "6144,0&0,00016276042&1,11e-09&2,8e-10&2,8e-10\\\\ \\hline\n",
      "\\end{tabular}\n",
      "\\caption*{Fonte: Autoria própria}\n",
      "\\end{table}\n",
      "\n"
     ]
    }
   ],
   "source": [
    "print(tab.gerarLatex())"
   ]
  },
  {
   "cell_type": "code",
   "execution_count": 20,
   "id": "73ea6c17-51ce-4dbf-af08-9b618dff03f2",
   "metadata": {},
   "outputs": [
    {
     "name": "stdout",
     "output_type": "stream",
     "text": [
      "\\begin{tabular}{lllll}\n",
      "\\toprule\n",
      "   n &                        h &                       tr &                       sp &                       bl \\\\\n",
      "\\midrule\n",
      "  12 &            0.08333333333 &            0.00037083460 &            0.00002096441 &            0.00000402326 \\\\\n",
      "  24 &            0.04166666667 &            0.00009176391 &            0.00000125965 &            0.00000005400 \\\\\n",
      "  48 &            0.02083333333 &            0.00002288231 &            0.00000007822 &            0.00000000054 \\\\\n",
      "  96 &            0.01041666667 &            0.00000571672 &            0.00000000514 &            0.00000000027 \\\\\n",
      " 192 &            0.00520833333 &            0.00000142874 &            0.00000000058 &            0.00000000028 \\\\\n",
      " 384 &            0.00260416667 &            0.00000035696 &            0.00000000030 &            0.00000000028 \\\\\n",
      " 768 &            0.00130208333 &            0.00000008903 &            0.00000000028 &            0.00000000028 \\\\\n",
      "1536 &            0.00065104167 &            0.00000002205 &            0.00000000028 &            0.00000000028 \\\\\n",
      "3072 &            0.00032552083 &            0.00000000530 &            0.00000000028 &            0.00000000028 \\\\\n",
      "6144 &            0.00016276042 &            0.00000000111 &            0.00000000028 &            0.00000000028 \\\\\n",
      "\\bottomrule\n",
      "\\end{tabular}\n",
      "\n"
     ]
    },
    {
     "name": "stderr",
     "output_type": "stream",
     "text": [
      "/tmp/ipykernel_99554/3573550689.py:1: FutureWarning: In future versions `DataFrame.to_latex` is expected to utilise the base implementation of `Styler.to_latex` for formatting and rendering. The arguments signature may therefore change. It is recommended instead to use `DataFrame.style.to_latex` which also contains additional functionality.\n",
      "  print(df_str.to_latex(index=False))\n"
     ]
    }
   ],
   "source": [
    "print(df_str.to_latex(index=False))"
   ]
  }
 ],
 "metadata": {
  "kernelspec": {
   "display_name": "Python 3 (ipykernel)",
   "language": "python",
   "name": "python3"
  },
  "language_info": {
   "codemirror_mode": {
    "name": "ipython",
    "version": 3
   },
   "file_extension": ".py",
   "mimetype": "text/x-python",
   "name": "python",
   "nbconvert_exporter": "python",
   "pygments_lexer": "ipython3",
   "version": "3.9.13"
  }
 },
 "nbformat": 4,
 "nbformat_minor": 5
}
