{
 "cells": [
  {
   "cell_type": "code",
   "execution_count": 32,
   "id": "6f3acd2d-ea72-4439-8f67-bc1158de2fba",
   "metadata": {},
   "outputs": [],
   "source": [
    "import random\n",
    "import matplotlib.pyplot as plt\n",
    "import numpy as np\n",
    "import time"
   ]
  },
  {
   "cell_type": "code",
   "execution_count": 72,
   "id": "4aa1bc62-3a8a-4cf3-8409-345c9a20da1f",
   "metadata": {},
   "outputs": [],
   "source": [
    "walkers = 2\n",
    "steps = 100\n",
    "\n",
    "vec_x = np.zeros((walkers, steps))\n",
    "vec_ms = np.zeros((walkers, steps))\n",
    "random.seed(1000)\n",
    "for walker in range(walkers):\n",
    "    x = 0\n",
    "    for step in range(steps):\n",
    "        randint = random.random()\n",
    "        if randint > 0.5:\n",
    "            x = x + 1\n",
    "            vec_x[walker][step] = vec_x[walker][step]+x\n",
    "            vec_ms[walker][step] = vec_ms[walker][step] + x**2\n",
    "        else:\n",
    "            x = x - 1\n",
    "            vec_x[walker][step] = vec_x[walker][step]+x\n",
    "            vec_ms[walker][step] = vec_ms[walker][step] + x**2\n",
    "        "
   ]
  },
  {
   "cell_type": "code",
   "execution_count": 69,
   "id": "53401529-c06d-4572-a6b8-29a62cdd2462",
   "metadata": {},
   "outputs": [
    {
     "data": {
      "text/plain": [
       "<matplotlib.legend.Legend at 0x7fc79f915f10>"
      ]
     },
     "execution_count": 69,
     "metadata": {},
     "output_type": "execute_result"
    },
    {
     "data": {
      "image/png": "[encoded data removed]",
      "text/plain": [
       "<Figure size 640x480 with 1 Axes>"
      ]
     },
     "metadata": {},
     "output_type": "display_data"
    }
   ],
   "source": [
    "f1, ax1 = plt.subplots()\n",
    "for walker in range(walkers):\n",
    "    ax1.scatter(x=list(range(1,len(vec_x[walker])+1)), y=vec_x[walker], s=10.0, label=f'walker {walker+1}', marker='^')\n",
    "ax1.legend()"
   ]
  },
  {
   "cell_type": "code",
   "execution_count": 94,
   "id": "f8c1ee07-bc3d-415e-88a0-319b68e32550",
   "metadata": {},
   "outputs": [],
   "source": [
    "walkers = 500\n",
    "steps = 100\n",
    "\n",
    "vec_x = np.zeros((walkers, steps))\n",
    "vec_ms = np.zeros((walkers, steps))\n",
    "random.seed(1000)\n",
    "for walker in range(walkers):\n",
    "    x = 0\n",
    "    random.seed(time.time()*walker)\n",
    "    for step in range(steps):\n",
    "        randint = random.random()\n",
    "        if randint > 0.5:\n",
    "            x = x + 1\n",
    "            vec_x[walker][step] = vec_x[walker][step]+x\n",
    "            vec_ms[walker][step] = vec_ms[walker][step] + x**2\n",
    "        else:\n",
    "            x = x - 1\n",
    "            vec_x[walker][step] = vec_x[walker][step]+x\n",
    "            vec_ms[walker][step] = vec_ms[walker][step] + x**2\n",
    "        "
   ]
  },
  {
   "cell_type": "code",
   "execution_count": 95,
   "id": "e43fcece-6677-408f-8e81-ca8aaca9e390",
   "metadata": {},
   "outputs": [
    {
     "data": {
      "text/plain": [
       "(500, 100)"
      ]
     },
     "execution_count": 95,
     "metadata": {},
     "output_type": "execute_result"
    }
   ],
   "source": [
    "np.shape(vec_ms)"
   ]
  },
  {
   "cell_type": "code",
   "execution_count": 96,
   "id": "c73a52d0-217a-4fcd-be1f-cd18e1ead287",
   "metadata": {},
   "outputs": [],
   "source": [
    "mean_square = [ np.sum(vec_ms[:][step]) for step in range(steps) ]"
   ]
  },
  {
   "cell_type": "code",
   "execution_count": 97,
   "id": "8f495a56-63c2-47b1-841f-b60d516a2f85",
   "metadata": {},
   "outputs": [
    {
     "data": {
      "text/plain": [
       "(100,)"
      ]
     },
     "execution_count": 97,
     "metadata": {},
     "output_type": "execute_result"
    }
   ],
   "source": [
    "np.shape(mean_square)"
   ]
  },
  {
   "cell_type": "code",
   "execution_count": 99,
   "id": "5544ca7c-849a-4cac-bf9c-93de4a46571a",
   "metadata": {},
   "outputs": [
    {
     "data": {
      "text/plain": [
       "[16234.0,\n",
       " 286.0,\n",
       " 6522.0,\n",
       " 3010.0,\n",
       " 6774.0,\n",
       " 2262.0,\n",
       " 2174.0,\n",
       " 6170.0,\n",
       " 3650.0,\n",
       " 990.0,\n",
       " 1018.0,\n",
       " 13738.0,\n",
       " 1350.0,\n",
       " 358.0,\n",
       " 4126.0,\n",
       " 12226.0,\n",
       " 8378.0,\n",
       " 3210.0,\n",
       " 3818.0,\n",
       " 922.0,\n",
       " 14682.0,\n",
       " 938.0,\n",
       " 1394.0,\n",
       " 32670.0,\n",
       " 1826.0,\n",
       " 390.0,\n",
       " 1218.0,\n",
       " 3218.0,\n",
       " 1030.0,\n",
       " 5978.0,\n",
       " 6166.0,\n",
       " 17298.0,\n",
       " 330.0,\n",
       " 16474.0,\n",
       " 1254.0,\n",
       " 7910.0,\n",
       " 4502.0,\n",
       " 3738.0,\n",
       " 994.0,\n",
       " 5258.0,\n",
       " 1642.0,\n",
       " 4454.0,\n",
       " 1490.0,\n",
       " 4006.0,\n",
       " 1406.0,\n",
       " 4266.0,\n",
       " 1418.0,\n",
       " 7726.0,\n",
       " 3466.0,\n",
       " 2382.0,\n",
       " 5222.0,\n",
       " 4090.0,\n",
       " 2030.0,\n",
       " 5530.0,\n",
       " 1070.0,\n",
       " 1214.0,\n",
       " 3010.0,\n",
       " 354.0,\n",
       " 18642.0,\n",
       " 2210.0,\n",
       " 998.0,\n",
       " 4578.0,\n",
       " 7262.0,\n",
       " 6514.0,\n",
       " 4590.0,\n",
       " 650.0,\n",
       " 474.0,\n",
       " 21946.0,\n",
       " 850.0,\n",
       " 614.0,\n",
       " 858.0,\n",
       " 1098.0,\n",
       " 5734.0,\n",
       " 2922.0,\n",
       " 24042.0,\n",
       " 2714.0,\n",
       " 20506.0,\n",
       " 4698.0,\n",
       " 8450.0,\n",
       " 2610.0,\n",
       " 2350.0,\n",
       " 1590.0,\n",
       " 4046.0,\n",
       " 574.0,\n",
       " 16182.0,\n",
       " 11086.0,\n",
       " 3898.0,\n",
       " 26910.0,\n",
       " 12266.0,\n",
       " 470.0,\n",
       " 17958.0,\n",
       " 4666.0,\n",
       " 2706.0,\n",
       " 5358.0,\n",
       " 962.0,\n",
       " 1494.0,\n",
       " 4034.0,\n",
       " 5890.0,\n",
       " 650.0,\n",
       " 2114.0]"
      ]
     },
     "execution_count": 99,
     "metadata": {},
     "output_type": "execute_result"
    }
   ],
   "source": [
    "mean_square"
   ]
  },
  {
   "cell_type": "code",
   "execution_count": 98,
   "id": "daf27cc6-6823-4c4d-8cda-1b5b7263dbfe",
   "metadata": {},
   "outputs": [
    {
     "name": "stderr",
     "output_type": "stream",
     "text": [
      "No artists with labels found to put in legend.  Note that artists whose label start with an underscore are ignored when legend() is called with no argument.\n"
     ]
    },
    {
     "data": {
      "text/plain": [
       "<matplotlib.legend.Legend at 0x7fc79f4460a0>"
      ]
     },
     "execution_count": 98,
     "metadata": {},
     "output_type": "execute_result"
    },
    {
     "data": {
      "image/png": "[encoded data removed]",
      "text/plain": [
       "<Figure size 640x480 with 1 Axes>"
      ]
     },
     "metadata": {},
     "output_type": "display_data"
    }
   ],
   "source": [
    "\n",
    "f2, ax2 = plt.subplots()\n",
    "for step in range(steps):\n",
    "    ax2.scatter(x=list(range(1,len(mean_square)+1)), y=np.array(mean_square)/steps, s=10.0, marker='^')\n",
    "ax2.legend()"
   ]
  }
 ],
 "metadata": {
  "kernelspec": {
   "display_name": "Python 3 (ipykernel)",
   "language": "python",
   "name": "python3"
  },
  "language_info": {
   "codemirror_mode": {
    "name": "ipython",
    "version": 3
   },
   "file_extension": ".py",
   "mimetype": "text/x-python",
   "name": "python",
   "nbconvert_exporter": "python",
   "pygments_lexer": "ipython3",
   "version": "3.9.13"
  }
 },
 "nbformat": 4,
 "nbformat_minor": 5
}
